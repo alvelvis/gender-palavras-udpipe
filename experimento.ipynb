{
 "cells": [
  {
   "cell_type": "markdown",
   "metadata": {},
   "source": [
    "# Comparação de gêneros no OBRAS entre PALAVRAS e UDPIPE"
   ]
  },
  {
   "cell_type": "markdown",
   "metadata": {},
   "source": [
    "## Abrindo corpoPALAVRAS e corpoOBRAS"
   ]
  },
  {
   "cell_type": "code",
   "execution_count": null,
   "metadata": {},
   "outputs": [],
   "source": [
    "! wget https://www.linguateca.pt/acesso/corpos/obras/corpoPALAVRAS.gz\n",
    "! wget https://www.linguateca.pt/acesso/corpos/obras/corpoOBRAS.gz"
   ]
  },
  {
   "cell_type": "code",
   "execution_count": 1,
   "metadata": {},
   "outputs": [],
   "source": [
    "! gunzip -f corpoPALAVRAS.gz\n",
    "! gunzip -f corpoOBRAS.gz"
   ]
  },
  {
   "cell_type": "code",
   "execution_count": 2,
   "metadata": {},
   "outputs": [],
   "source": [
    "import re\n",
    "with open(\"corpoPALAVRAS\", encoding=\"latin-1\") as f:\n",
    "    PALAVRAS = f.read()\n",
    "with open(\"corpoOBRAS\", encoding=\"latin-1\") as f:\n",
    "    OBRAS = f.read()"
   ]
  },
  {
   "cell_type": "markdown",
   "metadata": {},
   "source": [
    "## Criando estrutura de dados"
   ]
  },
  {
   "cell_type": "code",
   "execution_count": 3,
   "metadata": {},
   "outputs": [
    {
     "name": "stdout",
     "output_type": "stream",
     "text": [
      "['Aluísio Azevedo']\n",
      "['A_Mortalha_de_Alzira Prosa:romance AA 1894 naturalismo_realismo_romantismo masc ']\n",
      "['A Mortalha de Alzira']\n"
     ]
    },
    {
     "data": {
      "text/plain": [
       "[{'forma': 'A', 'lema': 'o', 'pos': 'DET_artd', 'genero': 'F'},\n",
       " {'forma': 'MORTALHA', 'lema': 'mORTALHA', 'pos': 'N', 'genero': 'F'},\n",
       " {'forma': 'DE', 'lema': 'de', 'pos': 'PRP', 'genero': '0'},\n",
       " {'forma': 'ALZIRA', 'lema': 'Alzira', 'pos': 'PROP', 'genero': 'F'}]"
      ]
     },
     "execution_count": 3,
     "metadata": {},
     "output_type": "execute_result"
    }
   ],
   "source": [
    "PALAVRAS_obras = [{\n",
    "        'obra': re.findall('<obra id=\"([^\"]*)\"', x),\n",
    "        'tituloobra': re.findall('<tituloobra id=\"([^\"]*)\"', x),\n",
    "        'autor': re.findall('<autor id=\"([^\"]*)\"', x),\n",
    "        'sentences': [[{\n",
    "                    'forma': z.split(\"\\t\")[0],\n",
    "                    'lema': z.split(\"\\t\")[1],\n",
    "                    'pos': z.split(\"\\t\")[2],\n",
    "                    'genero': z.split(\"\\t\")[5]\n",
    "                } for z in y.split(\"\\n\") if len(z.split(\"\\t\")) > 5\n",
    "                      ] for y in re.findall('<u>(.*?)</u>', x, flags=re.DOTALL) if '\\t' in y]\n",
    "        } for x in re.findall('<obra.*?</obra>', PALAVRAS, flags=re.DOTALL)]\n",
    "\n",
    "print(PALAVRAS_obras[0]['autor'])\n",
    "print(PALAVRAS_obras[0]['obra'])\n",
    "print(PALAVRAS_obras[0]['tituloobra'])\n",
    "PALAVRAS_obras[0]['sentences'][0]"
   ]
  },
  {
   "cell_type": "code",
   "execution_count": 4,
   "metadata": {},
   "outputs": [
    {
     "name": "stdout",
     "output_type": "stream",
     "text": [
      "['Aluísio Azevedo']\n",
      "['A_Mortalha_de_Alzira Prosa:romance AA 1894 naturalismo_realismo_romantismo masc ']\n",
      "['A Mortalha de Alzira']\n"
     ]
    },
    {
     "data": {
      "text/plain": [
       "[{'forma': 'A', 'lema': 'o', 'pos': 'DET_artd', 'genero': 'F'},\n",
       " {'forma': 'MORTALHA', 'lema': 'mORTALHA', 'pos': 'N', 'genero': 'F'},\n",
       " {'forma': 'DE', 'lema': 'de', 'pos': 'PRP', 'genero': '0'},\n",
       " {'forma': 'ALZIRA', 'lema': 'Alzira', 'pos': 'PROP', 'genero': 'F'}]"
      ]
     },
     "execution_count": 4,
     "metadata": {},
     "output_type": "execute_result"
    }
   ],
   "source": [
    "OBRAS_obras = [{\n",
    "        'obra': re.findall('<obra id=\"([^\"]*)\"', x),\n",
    "        'tituloobra': re.findall('<tituloobra id=\"([^\"]*)\"', x),\n",
    "        'autor': re.findall('<autor id=\"([^\"]*)\"', x),\n",
    "        'sentences': [[{\n",
    "                    'forma': z.split(\"\\t\")[0],\n",
    "                    'lema': z.split(\"\\t\")[8],\n",
    "                    'pos': z.split(\"\\t\")[9],\n",
    "                    'genero': z.split(\"\\t\")[12]\n",
    "                } for z in y.split(\"\\n\") if len(z.split(\"\\t\")) > 5\n",
    "                      ] for y in re.findall('<u>(.*?)</u>', x, flags=re.DOTALL) if '\\t' in y]\n",
    "        } for x in re.findall('<obra.*?</obra>', OBRAS, flags=re.DOTALL)]\n",
    "\n",
    "print(OBRAS_obras[0]['autor'])\n",
    "print(OBRAS_obras[0]['obra'])\n",
    "print(OBRAS_obras[0]['tituloobra'])\n",
    "OBRAS_obras[0]['sentences'][0]"
   ]
  },
  {
   "cell_type": "markdown",
   "metadata": {},
   "source": [
    "## Alinhando PALAVRAS e OBRAS"
   ]
  },
  {
   "cell_type": "markdown",
   "metadata": {},
   "source": [
    "### Número de obras no PALAVRAS e no OBRAS"
   ]
  },
  {
   "cell_type": "code",
   "execution_count": 5,
   "metadata": {},
   "outputs": [
    {
     "name": "stdout",
     "output_type": "stream",
     "text": [
      "311\n",
      "307\n"
     ]
    }
   ],
   "source": [
    "print(len(PALAVRAS_obras))\n",
    "print(len(OBRAS_obras))"
   ]
  },
  {
   "cell_type": "markdown",
   "metadata": {},
   "source": [
    "### Buscar obras que existem em um e não no outro"
   ]
  },
  {
   "cell_type": "code",
   "execution_count": 6,
   "metadata": {},
   "outputs": [
    {
     "name": "stdout",
     "output_type": "stream",
     "text": [
      "[['Ao Entardecer'], ['A retirada da Laguna, narrativa de campanha'], ['Inocência'], ['No declínio']]\n",
      "[]\n",
      "307\n",
      "307\n"
     ]
    }
   ],
   "source": [
    "obras_proibidas = [x for x in [y['tituloobra'] for y in PALAVRAS_obras] if x not in [z['tituloobra'] for z in OBRAS_obras]]\n",
    "obras_proibidas += [x for x in [y['tituloobra'] for y in OBRAS_obras] if x not in [z['tituloobra'] for z in PALAVRAS_obras]]\n",
    "print([x for x in [y['tituloobra'] for y in PALAVRAS_obras] if x not in [z['tituloobra'] for z in OBRAS_obras]])\n",
    "print([x for x in [y['tituloobra'] for y in OBRAS_obras] if x not in [z['tituloobra'] for z in PALAVRAS_obras]])\n",
    "PALAVRAS_obras = [x for x in PALAVRAS_obras if x['tituloobra'] not in obras_proibidas]\n",
    "OBRAS_obras = [x for x in OBRAS_obras if x['tituloobra'] not in obras_proibidas]\n",
    "\n",
    "print(len(PALAVRAS_obras))\n",
    "print(len(OBRAS_obras))"
   ]
  },
  {
   "cell_type": "markdown",
   "metadata": {},
   "source": [
    "### Buscar obras fora de ordem entre PALAVRAS e OBRAS"
   ]
  },
  {
   "cell_type": "code",
   "execution_count": 7,
   "metadata": {},
   "outputs": [
    {
     "name": "stdout",
     "output_type": "stream",
     "text": [
      "Não há obras fora de ordem\n"
     ]
    }
   ],
   "source": [
    "fora_de_ordem = False\n",
    "for i in range(len(PALAVRAS_obras)):\n",
    "    if PALAVRAS_obras[i]['tituloobra'] != OBRAS_obras[i]['tituloobra']:\n",
    "        fora_de_ordem = True\n",
    "        print(f\"{PALAVRAS_obras[i]['tituloobra']} / {OBRAS_obras[i]['tituloobra']}\")\n",
    "        \n",
    "if not fora_de_ordem:\n",
    "    print(\"Não há obras fora de ordem\")"
   ]
  },
  {
   "cell_type": "markdown",
   "metadata": {},
   "source": [
    "### Buscar obras sem id"
   ]
  },
  {
   "cell_type": "code",
   "execution_count": 8,
   "metadata": {},
   "outputs": [
    {
     "name": "stdout",
     "output_type": "stream",
     "text": [
      "['Eterno!']\n",
      "['Orai por ele!']\n",
      "['Pobre Finoca!']\n",
      "['Suje-se gordo!']\n",
      "['Vênus! Divina Vênus!']\n",
      "['Vinte Anos! Vinte Anos!']\n",
      "['Viver!']\n",
      "300\n",
      "300\n"
     ]
    }
   ],
   "source": [
    "obras_proibidas = []\n",
    "for obra in PALAVRAS_obras:\n",
    "    if not obra['obra']:\n",
    "        print(obra['tituloobra'])\n",
    "        obras_proibidas.append(obra['tituloobra'])        \n",
    "\n",
    "PALAVRAS_obras = [x for x in PALAVRAS_obras if x['tituloobra'] not in obras_proibidas]\n",
    "OBRAS_obras = [x for x in OBRAS_obras if x['tituloobra'] not in obras_proibidas]\n",
    "\n",
    "print(len(PALAVRAS_obras))\n",
    "print(len(OBRAS_obras))"
   ]
  },
  {
   "cell_type": "markdown",
   "metadata": {},
   "source": [
    "### Buscar obras sem sentença"
   ]
  },
  {
   "cell_type": "code",
   "execution_count": 9,
   "metadata": {},
   "outputs": [
    {
     "name": "stdout",
     "output_type": "stream",
     "text": [
      "['A causa secreta']\n",
      "['Adão e Eva']\n",
      "['A desejada das gentes']\n",
      "['A mulher de preto']\n",
      "['Anedota do cabriolet']\n",
      "['Ao acaso']\n",
      "['A parasita azul']\n",
      "['As bodas de Luis Duarte']\n",
      "['Aurora sem dia']\n",
      "['Confissões de uma viúva moça']\n",
      "['Conto de escola']\n",
      "['D Paula']\n",
      "['Entre santos']\n",
      "['Ernesto de tal']\n",
      "['Evolução ']\n",
      "['Frei Simão']\n",
      "['Henrique Chaves']\n",
      "['Henrique Lombaerts']\n",
      "['Idéias do canário']\n",
      "['Joaquim Serra']\n",
      "['José de Alencar']\n",
      "['Lágrimas de Xerxes']\n",
      "['Linha reta e linha curva']\n",
      "['Luís Soares']\n",
      "['Marcha fúnebre']\n",
      "['Maria Cora']\n",
      "['Missa do galo']\n",
      "['Miss Dollar']\n",
      "['O Califa de Platina']\n",
      "['O caso da vara']\n",
      "['O cônego ou Metafísica do estilo']\n",
      "['O dicionário']\n",
      "['O diplomático']\n",
      "['O empréstimo']\n",
      "['O enfermeiro']\n",
      "['O futuro dos argentinos']\n",
      "['O passado']\n",
      "['O relógio de ouro']\n",
      "['O segredo de Augusta']\n",
      "['O Velho Senado']\n",
      "['Pai contra mãe']\n",
      "['Papéis velhos']\n",
      "['Pílades e Orestes']\n",
      "['Ponto de Vista']\n",
      "['Trio em Lá menor']\n",
      "['Uma carta']\n",
      "['Uma noite']\n",
      "['Um apólogo']\n",
      "['Umas férias']\n",
      "['Uma visita de Alcebíades']\n",
      "['Um capitão de voluntários']\n",
      "['Um erradio']\n",
      "['Um homem célebre']\n",
      "['Uns braços']\n",
      "['Verba testamentária']\n",
      "245\n",
      "245\n"
     ]
    }
   ],
   "source": [
    "obras_proibidas = []\n",
    "for obra in PALAVRAS_obras:\n",
    "    if not obra['sentences']:\n",
    "        print(obra['tituloobra'])\n",
    "        obras_proibidas.append(obra['tituloobra'])        \n",
    "\n",
    "PALAVRAS_obras = [x for x in PALAVRAS_obras if x['tituloobra'] not in obras_proibidas]\n",
    "OBRAS_obras = [x for x in OBRAS_obras if x['tituloobra'] not in obras_proibidas]\n",
    "\n",
    "print(len(PALAVRAS_obras))\n",
    "print(len(OBRAS_obras))"
   ]
  },
  {
   "cell_type": "markdown",
   "metadata": {},
   "source": [
    "### Buscar obras com número de sentenças diferente"
   ]
  },
  {
   "cell_type": "code",
   "execution_count": 10,
   "metadata": {},
   "outputs": [
    {
     "name": "stdout",
     "output_type": "stream",
     "text": [
      "Não há obras com número de sentenças diferente\n"
     ]
    }
   ],
   "source": [
    "sentencas_diferentes = False\n",
    "for i in range(len(PALAVRAS_obras)):\n",
    "    if len(PALAVRAS_obras[i]['sentences']) != len(OBRAS_obras[i]['sentences']):\n",
    "        sentencas_diferentes = True\n",
    "        print(f\"{i} - {PALAVRAS_obras[i]['tituloobra']}\")\n",
    "        print(f\"PALAVRAS ({len(PALAVRAS_obras[i]['sentences'])}) / ACDC ({len(OBRAS_obras[i]['sentences'])})\")\n",
    "        \n",
    "if not sentencas_diferentes:\n",
    "    print('Não há obras com número de sentenças diferente')"
   ]
  },
  {
   "cell_type": "markdown",
   "metadata": {},
   "source": [
    "### Buscar sentenças com números de tokens diferentes e eliminar"
   ]
  },
  {
   "cell_type": "code",
   "execution_count": 11,
   "metadata": {},
   "outputs": [
    {
     "name": "stdout",
     "output_type": "stream",
     "text": [
      "Total de sentenças no corpus: 393282\n",
      "Sentenças com tamanho diferente, que foram suprimidas do experimento (salvas em lista_suprimidas.txt): 4\n",
      "Total de sentenças no corpus sem as suprimidas: 393278\n",
      "\n",
      "4 palavras que foram suprimidas de OBRAS\n",
      "\n",
      "[('ia', 2), ('lo', 1), ('íamos', 1), ('Perorou', 1)]\n",
      "\n",
      "0 palavras que foram suprimidas de PALAVRAS\n",
      "\n",
      "[]\n",
      "\n",
      "42-31:\n",
      "Trá- lo íamos , eu e tu , em nossos braços , fazendo do seu canto , ou do seu urro , a música do nosso prazer ...\n",
      "Trá- , eu e tu , em nossos braços , fazendo do seu canto , ou do seu urro , a música do nosso prazer ...\n",
      "\n",
      "58-375:\n",
      "Rirse- ia a noite inteira , talvez , se não fosse interrompido pelo Rafael , que o vinha chamar para tomar chá .\n",
      "Rirse- a noite inteira , talvez , se não fosse interrompido pelo Rafael , que o vinha chamar para tomar chá .\n",
      "\n",
      "195-5176:\n",
      "Dirse- ia que o próprio feto repercutiu a sensação e abençoou o pai .\n",
      "Dirse- que o próprio feto repercutiu a sensação e abençoou o pai .\n",
      "\n",
      "200-108:\n",
      "Perorou José Vargas .\n",
      "José Vargas .\n",
      "\n",
      "\n"
     ]
    }
   ],
   "source": [
    "output = \"\"\n",
    "sentences_inequal = {}\n",
    "diff_list = {'OBRAS': {}, 'PALAVRAS': {}}\n",
    "\n",
    "for i in range(len(OBRAS_obras)):\n",
    "    sentences_inequal[i] = []\n",
    "    for k in range(len(OBRAS_obras[i]['sentences'])):\n",
    "        text_PALAVRAS = \" \".join([x['forma'] for x in PALAVRAS_obras[i]['sentences'][k]])\n",
    "        text_OBRAS = \" \".join([x['forma'] for x in OBRAS_obras[i]['sentences'][k]])\n",
    "        if len(text_PALAVRAS.split()) != len(text_OBRAS.split()):\n",
    "            output += f\"{i}-{k}:\"\n",
    "            output += \"\\n\" + text_PALAVRAS\n",
    "            output += \"\\n\" + text_OBRAS\n",
    "            output += \"\\n\\n\"\n",
    "            lista_PALAVRAS = [x['forma'] for x in PALAVRAS_obras[i]['sentences'][k]]\n",
    "            lista_OBRAS = [x['forma'] for x in OBRAS_obras[i]['sentences'][k]]\n",
    "            for diff in lista_PALAVRAS:\n",
    "                if diff not in lista_OBRAS:\n",
    "                    diff_list['OBRAS'][diff] = diff_list['OBRAS'][diff] + 1 if diff in diff_list['OBRAS'] else 1\n",
    "            for diff in lista_OBRAS:\n",
    "                if diff not in lista_PALAVRAS:\n",
    "                    diff_list['PALAVRAS'][diff] = diff_list['PALAVRAS'][diff] + 1 if diff in diff_list['PALAVRAS'] else 1\n",
    "            sentences_inequal[i].append(k)\n",
    "\n",
    "numero_sentences_pre = sum([len(x['sentences']) for x in OBRAS_obras])\n",
    "print(f\"Total de sentenças no corpus: {numero_sentences_pre}\")\n",
    "for i in range(len(PALAVRAS_obras)):\n",
    "    PALAVRAS_obras[i]['sentences'] = [x for k, x in enumerate(PALAVRAS_obras[i]['sentences']) if k not in sentences_inequal[i]]\n",
    "    OBRAS_obras[i]['sentences'] = [x for k, x in enumerate(OBRAS_obras[i]['sentences']) if k not in sentences_inequal[i]]\n",
    "numero_sentences_pos = sum([len(x['sentences']) for x in OBRAS_obras])\n",
    "print(f\"Sentenças com tamanho diferente, que foram suprimidas do experimento (salvas em lista_suprimidas.txt): {numero_sentences_pre - numero_sentences_pos}\")\n",
    "print(f\"Total de sentenças no corpus sem as suprimidas: {numero_sentences_pos}\")\n",
    "\n",
    "import pprint\n",
    "for corpus in diff_list:\n",
    "    print(f\"\\n{len(diff_list[corpus])} palavras que foram suprimidas de {corpus}\\n\")\n",
    "    pprint.pprint(sorted(diff_list[corpus].items(), key=lambda x: x[1], reverse=True))\n",
    "print(f\"\\n{output}\")\n",
    "with open(\"lista_suprimidas.txt\", \"w\") as f:\n",
    "    f.write(output)"
   ]
  },
  {
   "cell_type": "markdown",
   "metadata": {},
   "source": [
    "## Preparar material que será anotado pelo UDPipe"
   ]
  },
  {
   "cell_type": "code",
   "execution_count": 12,
   "metadata": {},
   "outputs": [
    {
     "name": "stdout",
     "output_type": "stream",
     "text": [
      "51 caracteres especiais no arquivo foram substituidos por __INDEF__\n"
     ]
    }
   ],
   "source": [
    "count_x85 = 0\n",
    "for i in range(len(OBRAS_obras)):\n",
    "        for s in range(len(OBRAS_obras[i]['sentences'])):\n",
    "            for t in range(len(OBRAS_obras[i]['sentences'][s])):\n",
    "                if OBRAS_obras[i]['sentences'][s][t]['forma'] == \"\\x85\":\n",
    "                    OBRAS_obras[i]['sentences'][s][t]['forma'] = OBRAS_obras[i]['sentences'][s][t]['forma'].replace(\"\\x85\", \"__INDEF__\")\n",
    "                    count_x85 += 1\n",
    "                    \n",
    "print(f\"{count_x85} caracteres especiais no arquivo foram substituidos por __INDEF__\")"
   ]
  },
  {
   "cell_type": "code",
   "execution_count": 13,
   "metadata": {},
   "outputs": [
    {
     "name": "stdout",
     "output_type": "stream",
     "text": [
      "# sent_id = A_Mortalha_de_Alzira_Prosa:romance_AA_1894_naturalismo_realismo_romantismo_masc-0:0\n",
      "# tituloobra = A Mortalha de Alzira\n",
      "# autor = Aluísio Azevedo\n",
      "# text = A MORTALHA DE ALZIRA\n",
      "A\t_\t_\t_\t_\t_\t_\t_\t_\t_\n",
      "MORTALHA\t_\t_\t_\t_\t_\t_\t_\t_\t_\n",
      "DE\t_\t_\t_\t_\t_\t_\t_\t_\t_\n",
      "ALZIRA\t_\t_\t_\t_\t_\t_\t_\t_\t_\n"
     ]
    }
   ],
   "source": [
    "conllu = \"\"\n",
    "for i in range(len(OBRAS_obras)):\n",
    "    for s in range(len(OBRAS_obras[i]['sentences'])):\n",
    "        conllu += \"# sent_id = \" + OBRAS_obras[i]['obra'][0].strip().replace(\" \", \"_\") + \"-\" + str(i) + \":\" + str(s)\n",
    "        conllu += \"\\n# tituloobra = \" + OBRAS_obras[i]['tituloobra'][0]\n",
    "        conllu += \"\\n# autor = \" + OBRAS_obras[i]['autor'][0]\n",
    "        conllu += \"\\n# text = \" + \" \".join([x['forma'] for x in OBRAS_obras[i]['sentences'][s]])\n",
    "        conllu += \"\\n\" + \"\\n\".join([x['forma'] + \"\\t\" + \"\\t\".join(\"_________\") for x in OBRAS_obras[i]['sentences'][s]])\n",
    "        conllu += \"\\n\\n\"\n",
    "\n",
    "print(\"\\n\\n\".join(conllu.split(\"\\n\\n\")[:5]))\n",
    "with open(\"corpoOBRAS_tokenizado.conllu\", \"w\") as f:\n",
    "    f.write(conllu)"
   ]
  },
  {
   "cell_type": "markdown",
   "metadata": {},
   "source": [
    "## Anotar com o UDPipe"
   ]
  },
  {
   "cell_type": "code",
   "execution_count": 14,
   "metadata": {},
   "outputs": [
    {
     "name": "stdout",
     "output_type": "stream",
     "text": [
      "Loading UDPipe model: done.\n"
     ]
    }
   ],
   "source": [
    "! python3 udpipe_vertical.py portuguese-bosque-ud-2.4-190531.udpipe corpoOBRAS_tokenizado.conllu corpoUDPIPE24r.conllu"
   ]
  },
  {
   "cell_type": "code",
   "execution_count": 26,
   "metadata": {},
   "outputs": [
    {
     "name": "stdout",
     "output_type": "stream",
     "text": [
      "Loading UDPipe model: done.\n"
     ]
    }
   ],
   "source": [
    "! python3 udpipe_vertical.py bosqueud_2.5_workbench.udpipe corpoOBRAS_tokenizado.conllu corpoUDPIPE25wb.conllu"
   ]
  },
  {
   "cell_type": "markdown",
   "metadata": {},
   "source": [
    "## Colocando gênero nos flat:name"
   ]
  },
  {
   "cell_type": "code",
   "execution_count": null,
   "metadata": {},
   "outputs": [],
   "source": [
    "import estrutura_ud\n",
    "ud24r, ud25wb = estrutura_ud.Corpus(recursivo=True), estrutura_ud.Corpus(recursivo=True)\n",
    "ud24r.load('corpoUDPIPE24r.conllu')\n",
    "ud25wb.load('corpoUDPIPE25wb.conllu')\n",
    "\n",
    "def find_gender():\n",
    "    for sentid, sentence in ud24r.sentences.items():\n",
    "        for token in sentence.tokens:\n",
    "            if token.deprel == \"flat:name\" and \"Gender=\" in token.head_token.misc:\n",
    "                print(token.to_str())\n",
    "                token.misc = token.misc.split(\"|\")\n",
    "                token.misc = [x for x in token.misc if not x.startswith(\"Gender=\")]\n",
    "                token.misc.append(\"Gender=\" + token.head_token.misc.split(\"Gender=\")[1].split(\"|\")[0])\n",
    "                token.misc = \"|\".join(sorted(token.misc))\n",
    "                print(token.to_str())\n",
    "                return \"\"\n",
    "find_gender()"
   ]
  },
  {
   "cell_type": "markdown",
   "metadata": {},
   "source": [
    "## Estrutura de dados do UDPIPE"
   ]
  },
  {
   "cell_type": "code",
   "execution_count": 28,
   "metadata": {},
   "outputs": [
    {
     "name": "stdout",
     "output_type": "stream",
     "text": [
      "# text = A MORTALHA DE ALZIRA\n",
      "# autor = Aluísio Azevedo\n",
      "# tituloobra = A Mortalha de Alzira\n",
      "# sent_id = A_Mortalha_de_Alzira_Prosa:romance_AA_1894_naturalismo_realismo_romantismo_masc-0:0\n",
      "1\tA\to\tDET\t_\tDefinite=Def|Gender=Fem|Number=Sing|PronType=Art\t2\tdet\t_\t_\n",
      "2\tMORTALHA\tMORTALHA\tPROPN\t_\tGender=Fem|Number=Sing\t0\troot\t_\t_\n",
      "3\tDE\tDE\tPROPN\t_\tNumber=Sing\t2\tflat:name\t_\t_\n",
      "4\tALZIRA\tALZIRA\tPROPN\t_\tNumber=Sing\t2\tflat:name\t_\t_\n",
      "# text = A MORTALHA DE ALZIRA\n",
      "# autor = Aluísio Azevedo\n",
      "# tituloobra = A Mortalha de Alzira\n",
      "# sent_id = A_Mortalha_de_Alzira_Prosa:romance_AA_1894_naturalismo_realismo_romantismo_masc-0:0\n",
      "1\tA\to\tDET\t_\tDefinite=Def|Gender=Fem|Number=Sing|PronType=Art\t2\tdet\t_\t_\n",
      "2\tMORTALHA\tMORTALHA\tPROPN\t_\tGender=Fem|Number=Sing\t0\troot\t_\t_\n",
      "3\tDE\tDE\tPROPN\t_\tNumber=Sing\t2\tflat:name\t_\t_\n",
      "4\tALZIRA\tALZIRA\tPROPN\t_\tNumber=Sing\t2\tflat:name\t_\t_\n"
     ]
    }
   ],
   "source": [
    "with open(\"corpoUDPIPE24r.conllu\") as f:\n",
    "    UDPIPE24r = f.read()\n",
    "print(UDPIPE24r.split(\"\\n\\n\")[0])\n",
    "print(\" \")\n",
    "with open(\"corpoUDPIPE25wb.conllu\") as f:\n",
    "    UDPIPE25wb = f.read()\n",
    "print(UDPIPE25wb.split(\"\\n\\n\")[0])"
   ]
  },
  {
   "cell_type": "code",
   "execution_count": null,
   "metadata": {},
   "outputs": [],
   "source": [
    "obras = {}\n",
    "for obra in re.findall(r\"# sent_id = .*-(.*?):\", UDPIPE24r):\n",
    "    if not int(obra) in obras:\n",
    "        obras[int(obra)] = {'sentences': []}\n",
    "\n",
    "for sentence in UDPIPE24r.split(\"\\n\\n\"):\n",
    "    if sentence:\n",
    "        obras[int(sentence.split(\"# sent_id = \")[1].split(\"\\n\")[0].rsplit(\"-\", 1)[1].split(\":\")[0])]['obra'] = sentence.split(\"# sent_id = \")[1].split(\"\\n\")[0].rsplit(\"-\", 1)[0]\n",
    "        obras[int(sentence.split(\"# sent_id = \")[1].split(\"\\n\")[0].rsplit(\"-\", 1)[1].split(\":\")[0])]['tituloobra'] = sentence.split(\"# tituloobra = \")[1].split(\"\\n\")[0]\n",
    "        obras[int(sentence.split(\"# sent_id = \")[1].split(\"\\n\")[0].rsplit(\"-\", 1)[1].split(\":\")[0])]['autor'] = sentence.split(\"# autor = \")[1].split(\"\\n\")[0]\n",
    "        obras[int(sentence.split(\"# sent_id = \")[1].split(\"\\n\")[0].rsplit(\"-\", 1)[1].split(\":\")[0])]['sentences'].append([{\n",
    "                    'forma': z.split(\"\\t\")[1],\n",
    "                    'lema': z.split(\"\\t\")[2],\n",
    "                    'pos': z.split(\"\\t\")[3],\n",
    "                    'genero': z.split(\"\\t\")[5].split(\"Gender=\")[1].split(\"|\")[0] if \"Gender=\" in z.split(\"\\t\")[5] else \"0\",\n",
    "                } for z in sentence.splitlines() if len(z.split(\"\\t\")) > 5])\n",
    "\n",
    "UDPIPE24r_obras = [{\n",
    "        'obra': obras[x]['obra'],\n",
    "        'tituloobra': obras[x]['tituloobra'],\n",
    "        'autor': obras[x]['autor'],\n",
    "        'sentences': obras[x]['sentences'],\n",
    "    } for x in obras]\n",
    "\n",
    "UDPIPE24r_obras[0]"
   ]
  },
  {
   "cell_type": "code",
   "execution_count": null,
   "metadata": {},
   "outputs": [],
   "source": [
    "obras = {}\n",
    "for obra in re.findall(r\"# sent_id = .*-(.*?):\", UDPIPE25wb):\n",
    "    if not int(obra) in obras:\n",
    "        obras[int(obra)] = {'sentences': []}\n",
    "\n",
    "for sentence in UDPIPE25wb.split(\"\\n\\n\"):\n",
    "    if sentence:\n",
    "        obras[int(sentence.split(\"# sent_id = \")[1].split(\"\\n\")[0].rsplit(\"-\", 1)[1].split(\":\")[0])]['obra'] = sentence.split(\"# sent_id = \")[1].split(\"\\n\")[0].rsplit(\"-\", 1)[0]\n",
    "        obras[int(sentence.split(\"# sent_id = \")[1].split(\"\\n\")[0].rsplit(\"-\", 1)[1].split(\":\")[0])]['tituloobra'] = sentence.split(\"# tituloobra = \")[1].split(\"\\n\")[0]\n",
    "        obras[int(sentence.split(\"# sent_id = \")[1].split(\"\\n\")[0].rsplit(\"-\", 1)[1].split(\":\")[0])]['autor'] = sentence.split(\"# autor = \")[1].split(\"\\n\")[0]\n",
    "        obras[int(sentence.split(\"# sent_id = \")[1].split(\"\\n\")[0].rsplit(\"-\", 1)[1].split(\":\")[0])]['sentences'].append([{\n",
    "                    'forma': z.split(\"\\t\")[1],\n",
    "                    'lema': z.split(\"\\t\")[2],\n",
    "                    'pos': z.split(\"\\t\")[3],\n",
    "                    'genero': z.split(\"\\t\")[5].split(\"Gender=\")[1].split(\"|\")[0] if \"Gender=\" in z.split(\"\\t\")[5] else \"0\",\n",
    "                } for z in sentence.splitlines() if len(z.split(\"\\t\")) > 5])\n",
    "\n",
    "UDPIPE25wb_obras = [{\n",
    "        'obra': obras[x]['obra'],\n",
    "        'tituloobra': obras[x]['tituloobra'],\n",
    "        'autor': obras[x]['autor'],\n",
    "        'sentences': obras[x]['sentences'],\n",
    "    } for x in obras]\n",
    "\n",
    "UDPIPE25wb_obras[0]"
   ]
  },
  {
   "cell_type": "markdown",
   "metadata": {},
   "source": [
    "### Comparar os três corpora"
   ]
  },
  {
   "cell_type": "code",
   "execution_count": null,
   "metadata": {},
   "outputs": [],
   "source": [
    "print(len(PALAVRAS_obras))\n",
    "print(len(OBRAS_obras))\n",
    "print(len(UDPIPE24r_obras))\n",
    "print(len(UDPIPE25wb_obras))\n",
    "\n",
    "sentencas_diferentes = False\n",
    "for i in range(len(PALAVRAS_obras)):\n",
    "    if len(PALAVRAS_obras[i]['sentences']) != len(OBRAS_obras[i]['sentences']) or len(OBRAS_obras[i]['sentences']) != len(UDPIPE24r_obras[i]['sentences']) or len(OBRAS_obras[i]['sentences']) != len(UDPIPE25wb_obras[i]['sentences']):\n",
    "        sentencas_diferentes = True\n",
    "        print(f\"{i} - {PALAVRAS_obras[i]['tituloobra']}\")\n",
    "        print(f\"PALAVRAS ({len(PALAVRAS_obras[i]['sentences'])}) / ACDC ({len(OBRAS_obras[i]['sentences'])}) / UDPIPE24r ({len(UDPIPE24r_obras[i]['sentences'])}) / UDPIPE25wb ({len(UDPIPE25wb_obras[i]['sentences'])})\")\n",
    "        \n",
    "if not sentencas_diferentes:\n",
    "    print('Não há obras com número de sentenças diferente')"
   ]
  },
  {
   "cell_type": "markdown",
   "metadata": {},
   "source": [
    "## Normalizar as formas de dizer o gênero"
   ]
  },
  {
   "cell_type": "code",
   "execution_count": null,
   "metadata": {},
   "outputs": [],
   "source": [
    "lista_genero_PALAVRAS = []\n",
    "lista_genero_OBRAS = []\n",
    "lista_genero_UDPIPE24r = []\n",
    "lista_genero_UDPIPE25wb = []\n",
    "\n",
    "generos_PALAVRAS = [c['genero'] for a in PALAVRAS_obras for b in a['sentences'] for c in b]\n",
    "[lista_genero_PALAVRAS.append(x) for x in generos_PALAVRAS if not x in lista_genero_PALAVRAS]\n",
    "print(lista_genero_PALAVRAS)\n",
    "\n",
    "generos_OBRAS = [c['genero'] for a in OBRAS_obras for b in a['sentences'] for c in b]\n",
    "[lista_genero_OBRAS.append(x) for x in generos_OBRAS if not x in lista_genero_OBRAS]\n",
    "print(lista_genero_OBRAS)\n",
    "\n",
    "generos_UDPIPE24r = [c['genero'] for a in UDPIPE24r_obras for b in a['sentences'] for c in b]\n",
    "[lista_genero_UDPIPE24r.append(x) for x in generos_UDPIPE24r if not x in lista_genero_UDPIPE24r]\n",
    "print(lista_genero_UDPIPE24r)\n",
    "\n",
    "generos_UDPIPE25wb = [c['genero'] for a in UDPIPE25wb_obras for b in a['sentences'] for c in b]\n",
    "[lista_genero_UDPIPE25wb.append(x) for x in generos_UDPIPE25wb if not x in lista_genero_UDPIPE25wb]\n",
    "print(lista_genero_UDPIPE25wb)"
   ]
  },
  {
   "cell_type": "code",
   "execution_count": null,
   "metadata": {},
   "outputs": [],
   "source": [
    "mudanca_de_genero = {\n",
    "    'F': 'F', \n",
    "    '0': '0', \n",
    "    'M': 'M', \n",
    "    'M/F': 'M/F', \n",
    "    'M/F+M': 'M', \n",
    "    '+F': 'F', \n",
    "    'M+M/F': 'M', \n",
    "    'M/F+M/F': 'M/F', \n",
    "    'F+M/F': 'F', \n",
    "    'M/F+F': 'F', \n",
    "    '+M': 'M', \n",
    "    'F+F': 'F', \n",
    "    'M/F+0': '0', \n",
    "    'M+M': 'M', \n",
    "    'SUP': 'SUP', \n",
    "    'F_P_V_uninfl_INF': 'F', \n",
    "    '3P': '3P', \n",
    "    '2S': '2S', \n",
    "    'M_S_V_uninfl_INF': 'M', \n",
    "    'M/F_2S_DAT_PERS_M': 'M/F', \n",
    "    'M/F_3S/P_DAT_PERS_M': 'M/F', \n",
    "    '+0': '0', \n",
    "    'M/S': 'M', \n",
    "    'F+M': 'F+M', \n",
    "    'm': 'M', \n",
    "    'M/F_1S_DAT_PERS_F': 'M/F', \n",
    "    'M_1S_DAT_PERS_F': 'M', \n",
    "    'M/F_1S_DAT_PERS_M': 'M/F',\n",
    "    '3S': '3S', \n",
    "    'F\"': 'F', \n",
    "    '1S': '1S', \n",
    "    'Fem': 'F',\n",
    "    'Masc': 'M', \n",
    "    'Unsp': 'M/F'\n",
    "}\n",
    "\n",
    "for a in range(len(OBRAS_obras)):\n",
    "    for b in range(len(OBRAS_obras[a]['sentences'])):\n",
    "        for c in range(len(OBRAS_obras[a]['sentences'][b])):\n",
    "            OBRAS_obras[a]['sentences'][b][c]['genero'] = mudanca_de_genero[OBRAS_obras[a]['sentences'][b][c]['genero']]\n",
    "            PALAVRAS_obras[a]['sentences'][b][c]['genero'] = mudanca_de_genero[PALAVRAS_obras[a]['sentences'][b][c]['genero']]\n",
    "            UDPIPE24r_obras[a]['sentences'][b][c]['genero'] = mudanca_de_genero[UDPIPE24r_obras[a]['sentences'][b][c]['genero']]\n",
    "            UDPIPE25wb_obras[a]['sentences'][b][c]['genero'] = mudanca_de_genero[UDPIPE25wb_obras[a]['sentences'][b][c]['genero']]\n",
    "            \n",
    "print('\\nCom a operação de mudança de gênero:')\n",
    "lista_genero_PALAVRAS = []\n",
    "lista_genero_OBRAS = []\n",
    "lista_genero_UDPIPE24r = []\n",
    "lista_genero_UDPIPE25wb = []\n",
    "\n",
    "generos_PALAVRAS = [c['genero'] for a in PALAVRAS_obras for b in a['sentences'] for c in b]\n",
    "[lista_genero_PALAVRAS.append(x) for x in generos_PALAVRAS if not x in lista_genero_PALAVRAS]\n",
    "print(lista_genero_PALAVRAS)\n",
    "\n",
    "generos_OBRAS = [c['genero'] for a in OBRAS_obras for b in a['sentences'] for c in b]\n",
    "[lista_genero_OBRAS.append(x) for x in generos_OBRAS if not x in lista_genero_OBRAS]\n",
    "print(lista_genero_OBRAS)\n",
    "\n",
    "generos_UDPIPE24r = [c['genero'] for a in UDPIPE24r_obras for b in a['sentences'] for c in b]\n",
    "[lista_genero_UDPIPE24r.append(x) for x in generos_UDPIPE24r if not x in lista_genero_UDPIPE24r]\n",
    "print(lista_genero_UDPIPE24r)\n",
    "\n",
    "generos_UDPIPE25wb = [c['genero'] for a in UDPIPE25wb_obras for b in a['sentences'] for c in b]\n",
    "[lista_genero_UDPIPE25wb.append(x) for x in generos_UDPIPE25wb if not x in lista_genero_UDPIPE25wb]\n",
    "print(lista_genero_UDPIPE25wb)"
   ]
  },
  {
   "cell_type": "code",
   "execution_count": 19,
   "metadata": {},
   "outputs": [],
   "source": [
    "generos_aceitaveis = ['F', '0', 'M', 'M/F']"
   ]
  },
  {
   "cell_type": "markdown",
   "metadata": {},
   "source": [
    "## Cálculos de comparação"
   ]
  },
  {
   "cell_type": "markdown",
   "metadata": {},
   "source": [
    "### Características da comparação"
   ]
  },
  {
   "cell_type": "code",
   "execution_count": 20,
   "metadata": {},
   "outputs": [],
   "source": [
    "from datetime import datetime\n",
    "\n",
    "PROP_OBRAS = len([token\n",
    "    for obra in OBRAS_obras\n",
    "        for sentence in obra['sentences']\n",
    "            for token in sentence if token['pos'] == \"PROP\"])\n",
    "\n",
    "PROP_PALAVRAS = len([token\n",
    "    for obra in PALAVRAS_obras\n",
    "        for sentence in obra['sentences']\n",
    "            for token in sentence if token['pos'] == \"PROP\"])\n",
    "\n",
    "PROP_UDPIPE24r = len([token\n",
    "    for obra in UDPIPE24r_obras\n",
    "        for sentence in obra['sentences']\n",
    "            for token in sentence if token['pos'] == \"PROPN\"])\n",
    "\n",
    "PROP_UDPIPE25wb = len([token\n",
    "    for obra in UDPIPE25wb_obras\n",
    "        for sentence in obra['sentences']\n",
    "            for token in sentence if token['pos'] == \"PROPN\"])"
   ]
  },
  {
   "cell_type": "markdown",
   "metadata": {},
   "source": [
    "### Acertos de nome próprio"
   ]
  },
  {
   "cell_type": "code",
   "execution_count": 21,
   "metadata": {},
   "outputs": [],
   "source": [
    "dicOBRAS_PROP = []\n",
    "dicPALAVRAS_PROP = []\n",
    "dicUDPIPE_PROP = []\n",
    "PALAVRAS_acertos_PROP = 0\n",
    "UDPIPE24r_acertos_PROP = 0\n",
    "UDPIPE25wb_acertos_PROP = 0\n",
    "acerto_ambos = []\n",
    "for o, obra in enumerate(OBRAS_obras):\n",
    "    for s, sentence in enumerate(obra['sentences']):\n",
    "        for t, token in enumerate(sentence):\n",
    "            tem_PALAVRAS = False\n",
    "            tem_UDPIPE24r = False\n",
    "            tem_UDPIPE25wb = False\n",
    "            if OBRAS_obras[o]['sentences'][s][t]['pos'] == 'PROP':\n",
    "                dicOBRAS_PROP.append({'o': o, 's': s, 't': t})\n",
    "                if PALAVRAS_obras[o]['sentences'][s][t]['pos'] == 'PROP':\n",
    "                    PALAVRAS_acertos_PROP += 1\n",
    "                    tem_PALAVRAS = True\n",
    "                if UDPIPE24r_obras[o]['sentences'][s][t]['pos'] == 'PROPN':\n",
    "                    UDPIPE24r_acertos_PROP += 1\n",
    "                    tem_UDPIPE24r = True\n",
    "                if UDPIPE25wb_obras[o]['sentences'][s][t]['pos'] == 'PROPN':\n",
    "                    UDPIPE25wb_acertos_PROP += 1\n",
    "                    tem_UDPIPE25wb = True\n",
    "                if tem_PALAVRAS and tem_UDPIPE:\n",
    "                    acerto_ambos.append({'o': o, 's': s, 't': t})\n",
    "OBRAS_total_PROP = len(dicOBRAS_PROP)"
   ]
  },
  {
   "cell_type": "markdown",
   "metadata": {},
   "source": [
    "### Acertos de gênero"
   ]
  },
  {
   "cell_type": "code",
   "execution_count": 22,
   "metadata": {},
   "outputs": [],
   "source": [
    "acerto_ambos = [{'o': x['o'], 's': x['s'], 't': x['t'], 'g': OBRAS_obras[x['o']]['sentences'][x['s']][x['t']]['genero']} for x in acerto_ambos if OBRAS_obras[x['o']]['sentences'][x['s']][x['t']]['genero'] in generos_aceitaveis]\n",
    "nomes_comparaveis = len(acerto_ambos)\n",
    "\n",
    "acertoGenero_PALAVRAS = 0\n",
    "acertoGenero_UDPIPE24r = 0\n",
    "acertoGenero_UDPIPE25wb = 0\n",
    "for token in acerto_ambos:\n",
    "    if PALAVRAS_obras[token['o']]['sentences'][token['s']][token['t']]['genero'] == token['g']:\n",
    "        acertoGenero_PALAVRAS += 1\n",
    "    if UDPIPE24r_obras[token['o']]['sentences'][token['s']][token['t']]['genero'] == token['g']:\n",
    "        acertoGenero_UDPIPE24r += 1\n",
    "    if UDPIPE25wb_obras[token['o']]['sentences'][token['s']][token['t']]['genero'] == token['g']:\n",
    "        acertoGenero_UDPIPE25wb += 1"
   ]
  },
  {
   "cell_type": "markdown",
   "metadata": {},
   "source": [
    "## HTML"
   ]
  },
  {
   "cell_type": "code",
   "execution_count": 23,
   "metadata": {},
   "outputs": [],
   "source": [
    "html = \"<style>body { width:40%; margin:auto; padding-top:10px; } td, th { padding:5px; } table { margin:auto; }</style>\"\n",
    "html += \"<title>Comparação entre a anotação de nomes próprios no OBras realizada pelo PALAVRAS e pelo UDPipe</title>\"\n",
    "html += \"<h1>Comparação entre a anotação de nomes próprios no OBras realizada pelo PALAVRAS e pelo UDPipe</h1><hr>\"\n",
    "html += \"<table border='1'>\"\n",
    "html += \"<tr><th>Características</th><th>PALAVRAS</th><th>UDPIPE24r</th><th>UDPIPE25wb</th><th>GOLDEN</th></td></tr>\"\n",
    "html += \"<tr><th>Obras</th><td>{}</td><td>{}</td><td>{}</td><td>{}</td></tr>\".format(\n",
    "    len(PALAVRAS_obras), \n",
    "    len(UDPIPE24r_obras), \n",
    "    len(UDPIPE25wb_obras), \n",
    "    len(OBRAS_obras)\n",
    ")\n",
    "html += \"<tr><th>Sentenças</th><td>{}</td><td>{}</td><td>{}</td><td>{}</td></tr>\".format(\n",
    "    sum([len(x['sentences']) for x in PALAVRAS_obras]), \n",
    "    sum([len(x['sentences']) for x in UDPIPE24r_obras]), \n",
    "    sum([len(x['sentences']) for x in UDPIPE25wb_obras]), \n",
    "    sum([len(x['sentences']) for x in OBRAS_obras])\n",
    ")\n",
    "html += \"<tr><th>Tokens</th><td>{}</td><td>{}</td><td>{}</td><td>{}</td></tr>\".format(\n",
    "    sum([len(x) for y in PALAVRAS_obras for x in y['sentences']]), \n",
    "    sum([len(x) for y in UDPIPE24r_obras for x in y['sentences']]), \n",
    "    sum([len(x) for y in UDPIPE25wb_obras for x in y['sentences']]), \n",
    "    sum([len(x) for y in OBRAS_obras for x in y['sentences']])\n",
    ")\n",
    "html += \"<tr><th>Nomes próprios</th><td>{}</td><td>{}</td><td>{}</td><td>{}</td></tr>\".format(\n",
    "    PROP_PALAVRAS, \n",
    "    PROP_UDPIPE24r, \n",
    "    PROP_UDPIPE25wb, \n",
    "    PROP_OBRAS\n",
    ")\n",
    "html += \"</table>\"\n",
    "\n",
    "html += \"<br><table border='1'>\"\n",
    "html += \"<tr><th></th><th>PALAVRAS</th><th>UDPIPE24r</th><th>UDPIPE25wb</th><th>GOLDEN</th></tr>\"\n",
    "html += \"<tr><th>Acertos de nome próprio</th><td>{}</td><td>{}</td><td>{}</td><td>{}</td></tr>\".format(\n",
    "    f\"{round((PALAVRAS_acertos_PROP/OBRAS_total_PROP)*100)}% ({PALAVRAS_acertos_PROP})\", \n",
    "    f\"{round((UDPIPE24r_acertos_PROP/OBRAS_total_PROP)*100)}% ({UDPIPE24r_acertos_PROP})\", \n",
    "    f\"{round((UDPIPE25wb_acertos_PROP/OBRAS_total_PROP)*100)}% ({UDPIPE25wb_acertos_PROP})\", \n",
    "    OBRAS_total_PROP\n",
    ")\n",
    "html += \"</table>\"\n",
    "\n",
    "html += \"<br><table border='1'>\"\n",
    "html += \"<tr><th></th><th>PALAVRAS</th><th>UDPIPE24r</th><th>UDPIPE25wb</th><th>Nomes próprios comparáveis</th></tr>\"\n",
    "html += \"<tr><th>Acertos de gênero</th><td>{}</td><td>{}</td><td>{}</td><td>{}</td></tr>\".format(\n",
    "    f\"{round((acertoGenero_PALAVRAS/nomes_comparaveis)*100)}% ({acertoGenero_PALAVRAS})\", \n",
    "    f\"{round((acertoGenero_UDPIPE24r/nomes_comparaveis)*100)}% ({acertoGenero_UDPIPE24r})\", \n",
    "    f\"{round((acertoGenero_UDPIPE25wb/nomes_comparaveis)*100)}% ({acertoGenero_UDPIPE25wb})\", \n",
    "    nomes_comparaveis\n",
    ")\n",
    "html += \"</table><br>\"\n",
    "\n",
    "for i, token in enumerate(acerto_ambos):\n",
    "    html += \"<hr><table style='text-align:center'>\"\n",
    "    html += \"<tr><td colspan='4'>{} / {}<br>{}</td></tr>\".format(str(i+1), len(acerto_ambos), \" \".join([x['forma'] for x in UDPIPE24r_obras[token['o']]['sentences'][token['s']]]).replace(UDPIPE24r_obras[token['o']]['sentences'][token['s']][token['t']]['forma'], '<b>' + UDPIPE24r_obras[token['o']]['sentences'][token['s']][token['t']]['forma'] + \"</b>\"))\n",
    "    html += \"<tr><th>PALAVRAS</th><th>UDPIPE24r</th><th>UDPIPE25wb</th><th>GOLDEN</th></tr>\"\n",
    "    html += \"<tr><td><font color='{cor_palavras}'>{}</font></td><td><font color='{cor_udpipe24r}'>{}</font></td><td><font color='{cor_udpipe25wb}'>{}</font></td><td>{}</td></tr>\".format(\n",
    "        PALAVRAS_obras[token['o']]['sentences'][token['s']][token['t']]['genero'], \n",
    "        UDPIPE24r_obras[token['o']]['sentences'][token['s']][token['t']]['genero'], \n",
    "        UDPIPE25wb_obras[token['o']]['sentences'][token['s']][token['t']]['genero'], \n",
    "        OBRAS_obras[token['o']]['sentences'][token['s']][token['t']]['genero'], \n",
    "        cor_palavras=\"red\" if PALAVRAS_obras[token['o']]['sentences'][token['s']][token['t']]['genero'] != OBRAS_obras[token['o']]['sentences'][token['s']][token['t']]['genero'] else \"green\", \n",
    "        cor_udpipe24r=\"red\" if UDPIPE_obras[token['o']]['sentences'][token['s']][token['t']]['genero'] != OBRAS_obras[token['o']]['sentences'][token['s']][token['t']]['genero'] else \"green\", \n",
    "        cor_udpipe25wb=\"red\" if UDPIPE25wb_obras[token['o']]['sentences'][token['s']][token['t']]['genero'] != OBRAS_obras[token['o']]['sentences'][token['s']][token['t']]['genero'] else \"green\"\n",
    "    )\n",
    "    html += \"</table>\"\n",
    "    if i == 199:\n",
    "        break\n",
    "\n",
    "html += \"<br><hr>Relatório gerado em \" + str(datetime.now()) + \"<br><br>\"\n",
    "\n",
    "with open(\"gender-palavras-udpipe.html\", \"w\") as f:\n",
    "    f.write(html)"
   ]
  },
  {
   "cell_type": "code",
   "execution_count": null,
   "metadata": {},
   "outputs": [],
   "source": []
  }
 ],
 "metadata": {
  "kernelspec": {
   "display_name": "Python 3",
   "language": "python",
   "name": "python3"
  },
  "language_info": {
   "codemirror_mode": {
    "name": "ipython",
    "version": 3
   },
   "file_extension": ".py",
   "mimetype": "text/x-python",
   "name": "python",
   "nbconvert_exporter": "python",
   "pygments_lexer": "ipython3",
   "version": "3.6.9"
  }
 },
 "nbformat": 4,
 "nbformat_minor": 2
}
